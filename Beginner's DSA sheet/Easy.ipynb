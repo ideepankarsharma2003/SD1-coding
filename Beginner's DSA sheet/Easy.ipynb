{
 "cells": [
  {
   "cell_type": "markdown",
   "metadata": {},
   "source": [
    "# **[Beginner's DSA Sheet: Easy](https://practice.geeksforgeeks.org/explore?page=1&sprint=ca8ae412173dbd8346c26a0295d098fd&difficulty[]=0&sortBy=submissions&sprint_name=Beginner%27s%20DSA%20Sheet)**"
   ]
  },
  {
   "cell_type": "code",
   "execution_count": null,
   "metadata": {},
   "outputs": [],
   "source": []
  },
  {
   "cell_type": "markdown",
   "metadata": {},
   "source": [
    "[Missing number in array](https://practice.geeksforgeeks.org/problems/missing-number-in-array1416/1?page=1&difficulty[]=0&sprint=ca8ae412173dbd8346c26a0295d098fd&sortBy=submissions)"
   ]
  },
  {
   "cell_type": "code",
   "execution_count": 1,
   "metadata": {},
   "outputs": [],
   "source": [
    "class Solution:\n",
    "    def missingNumber(self,array,n):\n",
    "        # code here\n",
    "        for i in range(1, n+1):\n",
    "            if i not in array:\n",
    "                return i\n"
   ]
  },
  {
   "cell_type": "markdown",
   "metadata": {},
   "source": [
    "[Wave Array](https://practice.geeksforgeeks.org/problems/wave-array-1587115621/1?page=1&difficulty[]=0&sprint=ca8ae412173dbd8346c26a0295d098fd&sortBy=submissions)"
   ]
  },
  {
   "cell_type": "code",
   "execution_count": null,
   "metadata": {},
   "outputs": [],
   "source": [
    "from typing import List\n",
    "\n",
    "\n",
    "class Solution:\n",
    "    def convertToWave(self, n : int, arr : List[int]) -> None:\n",
    "        # code here\n",
    "        for i in range(n-1):\n",
    "            if i %2==0:\n",
    "                if arr[i]<arr[i+1]:\n",
    "                    arr[i],arr[i+1]= arr[i+1], arr[i]\n",
    "            else:\n",
    "                if arr[i]>arr[i+1]:\n",
    "                    arr[i],arr[i+1]= arr[i+1], arr[i]\n",
    "                \n",
    "        \n",
    "\n"
   ]
  },
  {
   "cell_type": "markdown",
   "metadata": {},
   "source": []
  },
  {
   "cell_type": "code",
   "execution_count": null,
   "metadata": {},
   "outputs": [],
   "source": []
  },
  {
   "cell_type": "markdown",
   "metadata": {},
   "source": []
  },
  {
   "cell_type": "code",
   "execution_count": null,
   "metadata": {},
   "outputs": [],
   "source": []
  }
 ],
 "metadata": {
  "kernelspec": {
   "display_name": "Python 3",
   "language": "python",
   "name": "python3"
  },
  "language_info": {
   "codemirror_mode": {
    "name": "ipython",
    "version": 3
   },
   "file_extension": ".py",
   "mimetype": "text/x-python",
   "name": "python",
   "nbconvert_exporter": "python",
   "pygments_lexer": "ipython3",
   "version": "3.9.6"
  },
  "orig_nbformat": 4
 },
 "nbformat": 4,
 "nbformat_minor": 2
}

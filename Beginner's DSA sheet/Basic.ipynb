{
 "cells": [
  {
   "cell_type": "markdown",
   "metadata": {},
   "source": [
    "# **[Beginner's DSA Sheet: School, Basic](https://practice.geeksforgeeks.org/explore?page=1&sprint=ca8ae412173dbd8346c26a0295d098fd&difficulty[]=-2&difficulty[]=-1&sortBy=submissions&sprint_name=Beginner%27s%20DSA%20Sheet)**"
   ]
  },
  {
   "attachments": {},
   "cell_type": "markdown",
   "metadata": {},
   "source": [
    "[Search an Element in an array](https://practice.geeksforgeeks.org/problems/search-an-element-in-an-array-1587115621/1?page=1&difficulty[]=-2&difficulty[]=-1&sprint=ca8ae412173dbd8346c26a0295d098fd&sortBy=submissions)"
   ]
  },
  {
   "cell_type": "code",
   "execution_count": 1,
   "metadata": {},
   "outputs": [],
   "source": [
    "#User function Template for python3\n",
    "\n",
    "class Solution:\n",
    "    #Complete the below function\n",
    "    def search(self,arr, N, X):\n",
    "        #Your code here\n",
    "        if X in arr: \n",
    "            return arr.index(X)\n",
    "        return -1"
   ]
  },
  {
   "attachments": {},
   "cell_type": "markdown",
   "metadata": {},
   "source": [
    "[Find minimum and maximum element in an array](https://practice.geeksforgeeks.org/problems/find-minimum-and-maximum-element-in-an-array4428/1?page=1&difficulty[]=-2&difficulty[]=-1&sprint=ca8ae412173dbd8346c26a0295d098fd&sortBy=submissions)"
   ]
  },
  {
   "cell_type": "code",
   "execution_count": 2,
   "metadata": {},
   "outputs": [],
   "source": [
    "#User function Template for python3\n",
    "\n",
    "def getMinMax( a, n):\n",
    "    return min(a), max(a)\n",
    "    "
   ]
  },
  {
   "attachments": {},
   "cell_type": "markdown",
   "metadata": {},
   "source": [
    "[Node at a given index in linked list](https://practice.geeksforgeeks.org/problems/node-at-a-given-index-in-linked-list/1?page=1&difficulty[]=-2&difficulty[]=-1&sprint=ca8ae412173dbd8346c26a0295d098fd&sortBy=submissions)"
   ]
  },
  {
   "cell_type": "code",
   "execution_count": 3,
   "metadata": {},
   "outputs": [],
   "source": [
    "\"\"\"index is the node which is to be displayed in output\n",
    "  Node is defined as\n",
    "class Node:\n",
    "    def __init__(self, data):\n",
    "\t\tself.data = data\n",
    "\t\tself.next = None\n",
    "# Linked List class contains a Node object\n",
    "class LinkedList:\n",
    "    def __init__(self):\n",
    "        self.head = None\n",
    "This is method only submission.\n",
    " You only need to complete below method.\n",
    "\"\"\"\n",
    "def getNth(head, k):\n",
    "    # Code here\n",
    "    while k>1:\n",
    "        head= head.next\n",
    "        k-=1\n",
    "    return head.data"
   ]
  },
  {
   "attachments": {},
   "cell_type": "markdown",
   "metadata": {},
   "source": [
    "[Find n/k th node in Linked list](https://practice.geeksforgeeks.org/problems/find-nk-th-node-in-linked-list/1?page=1&difficulty[]=-2&difficulty[]=-1&sprint=ca8ae412173dbd8346c26a0295d098fd&sortBy=submissions)"
   ]
  },
  {
   "cell_type": "code",
   "execution_count": null,
   "metadata": {},
   "outputs": [],
   "source": [
    "#User function Template for python3\n",
    "\n",
    "'''class Node: \n",
    "   \n",
    "    # Function to initialize the node object \n",
    "    def __init__(self, data): \n",
    "        self.data = data   \n",
    "        self.next = None\n",
    "'''\n",
    "        \n",
    "from math import ceil\n",
    "\n",
    "def fractionalNodes(head,k):\n",
    "        #add code here\n",
    "        arr= []\n",
    "        temp= head\n",
    "        while head is not None:\n",
    "            num= head.data\n",
    "            arr.append(num)\n",
    "            head= head.next\n",
    "        \n",
    "        n= len(arr)\n",
    "        ans= ceil(n/k)\n",
    "        for i in range(ans-1):\n",
    "            temp= temp.next\n",
    "        return temp\n",
    "        \n",
    "        # return arr[n//k]"
   ]
  },
  {
   "attachments": {},
   "cell_type": "markdown",
   "metadata": {},
   "source": [
    "[Preorder Traversal](https://practice.geeksforgeeks.org/problems/preorder-traversal/1?page=1&difficulty[]=-2&difficulty[]=-1&sprint=ca8ae412173dbd8346c26a0295d098fd&sortBy=submissions)"
   ]
  },
  {
   "cell_type": "code",
   "execution_count": null,
   "metadata": {},
   "outputs": [],
   "source": [
    "\n",
    "\n",
    "'''\n",
    "# Node Class:\n",
    "class Node:\n",
    "    def _init_(self,val):\n",
    "        self.data = val\n",
    "        self.left = None\n",
    "        self.right = None\n",
    "'''\n",
    "#Function to return a list containing the preorder traversal of the tree.\n",
    "def preorder(root):\n",
    "    \n",
    "    # code here\n",
    "    ans= []\n",
    "    if root: \n",
    "        ans.append(root.data)\n",
    "        ans+=preorder(root.left)\n",
    "        ans+=preorder(root.right)\n",
    "        \n",
    "    return ans"
   ]
  },
  {
   "cell_type": "markdown",
   "metadata": {},
   "source": [
    "[Inorder Traversal](https://practice.geeksforgeeks.org/problems/inorder-traversal/1?page=1&difficulty[]=-2&difficulty[]=-1&sprint=ca8ae412173dbd8346c26a0295d098fd&sortBy=submissions)"
   ]
  },
  {
   "cell_type": "code",
   "execution_count": 1,
   "metadata": {},
   "outputs": [],
   "source": [
    "#User function Template for python3\n",
    "\n",
    "\n",
    "'''\n",
    "# Node Class:\n",
    "class Node:\n",
    "    def init(self,val):\n",
    "        self.data = val\n",
    "        self.left = None\n",
    "        self.right = None\n",
    "'''\n",
    "\n",
    "\n",
    "#Function to return a list containing the inorder traversal of the tree. \n",
    "class Solution:\n",
    "    def InOrder(self,root):\n",
    "        # code here\n",
    "        # print(root)\n",
    "        ans= []\n",
    "        if root:\n",
    "            ans+= self.InOrder(root.left) \n",
    "            ans+= [root.data]\n",
    "            ans+=self.InOrder(root.right)\n",
    "        return ans\n",
    "        # return [root]"
   ]
  },
  {
   "cell_type": "markdown",
   "metadata": {},
   "source": [
    "[Postorder Traversal](https://practice.geeksforgeeks.org/problems/postorder-traversal/1?page=1&difficulty[]=-2&difficulty[]=-1&sprint=ca8ae412173dbd8346c26a0295d098fd&sortBy=submissions)"
   ]
  },
  {
   "cell_type": "code",
   "execution_count": null,
   "metadata": {},
   "outputs": [],
   "source": [
    "#User function Template for python3\n",
    "\n",
    "\n",
    "'''\n",
    "# Node Class:\n",
    "class Node:\n",
    "    def __init__(self,val):\n",
    "        self.data = val\n",
    "        self.left = None\n",
    "        self.right = None\n",
    "'''\n",
    "\n",
    "#Function to return a list containing the postorder traversal of the tree.\n",
    "def postOrder(root):\n",
    "    # code here\n",
    "    ans= []\n",
    "    if root:\n",
    "        ans= postOrder(root.left)+ postOrder(root.right)+ [root.data]\n",
    "    return ans\n",
    "        \n"
   ]
  },
  {
   "cell_type": "markdown",
   "metadata": {},
   "source": [
    "[Search a node in BST](https://practice.geeksforgeeks.org/problems/search-a-node-in-bst/1?page=1&difficulty[]=-2&difficulty[]=-1&sprint=ca8ae412173dbd8346c26a0295d098fd&sortBy=submissions)"
   ]
  },
  {
   "cell_type": "code",
   "execution_count": 2,
   "metadata": {},
   "outputs": [],
   "source": [
    "#Your task is to complete this function\n",
    "\n",
    "class BST:\n",
    "    \n",
    "    #Function to search a node in BST.\n",
    "    def search(self, node, x):\n",
    "        #code here\n",
    "        ans= 0\n",
    "        if not node: \n",
    "            return 0\n",
    "            \n",
    "        if node.data== x:\n",
    "            return 1\n",
    "        \n",
    "            \n",
    "        if node.data < x:\n",
    "            ans+= self.search(node.right, x)\n",
    "        elif node.data > x:\n",
    "            ans+= self.search(node.left, x)\n",
    "        return ans\n"
   ]
  },
  {
   "cell_type": "markdown",
   "metadata": {},
   "source": [
    "[Print first n Fibonacci Numbers](https://practice.geeksforgeeks.org/problems/print-first-n-fibonacci-numbers1002/1?page=1&difficulty[]=-2&difficulty[]=-1&sprint=ca8ae412173dbd8346c26a0295d098fd&sortBy=submissions)"
   ]
  },
  {
   "cell_type": "code",
   "execution_count": null,
   "metadata": {},
   "outputs": [],
   "source": [
    "#User function Template for python3\n",
    "\n",
    "class Solution:\n",
    "    #Function to return list containing first n fibonacci numbers.\n",
    "    def printFibb(self,n):\n",
    "        # your code here\n",
    "        n1= 1\n",
    "        n2= 1\n",
    "        series= [n1, n2]\n",
    "        n3= n1+n2\n",
    "        for i in range(2, n):\n",
    "            series.append(n3)\n",
    "            n1= n2\n",
    "            n2= n3\n",
    "            n3= n1+n2\n",
    "        return series[:n]\n"
   ]
  }
 ],
 "metadata": {
  "kernelspec": {
   "display_name": "Python 3",
   "language": "python",
   "name": "python3"
  },
  "language_info": {
   "codemirror_mode": {
    "name": "ipython",
    "version": 3
   },
   "file_extension": ".py",
   "mimetype": "text/x-python",
   "name": "python",
   "nbconvert_exporter": "python",
   "pygments_lexer": "ipython3",
   "version": "3.9.6"
  },
  "orig_nbformat": 4
 },
 "nbformat": 4,
 "nbformat_minor": 2
}

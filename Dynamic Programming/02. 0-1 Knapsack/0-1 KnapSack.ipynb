{
 "cells": [
  {
   "cell_type": "markdown",
   "metadata": {},
   "source": [
    "# [**0 - 1 Knapsack Problem**](https://practice.geeksforgeeks.org/problems/0-1-knapsack-problem0945/1)"
   ]
  },
  {
   "cell_type": "markdown",
   "metadata": {},
   "source": [
    "# Recursive"
   ]
  },
  {
   "cell_type": "code",
   "execution_count": 1,
   "metadata": {},
   "outputs": [],
   "source": [
    "class Solution:\n",
    "    \n",
    "    #Function to return max value that can be put in knapsack of capacity W.\n",
    "    def knapSack(self,W, wt, val, n):\n",
    "       \n",
    "        if n==0 or W==0:\n",
    "            max_profit= 0\n",
    "            return max_profit\n",
    "        \n",
    "        if wt[n-1]>W:\n",
    "            # can't include in knapsack\n",
    "            max_profit= self.knapSack(W, wt, val, n-1)\n",
    "            return max_profit\n",
    "        else:\n",
    "            max_profit= max(\n",
    "                self.knapSack(W, wt, val, n-1), # don't include\n",
    "                val[n-1]+self.knapSack(W-wt[n-1], wt, val, n-1) # include \n",
    "            )\n",
    "            return max_profit\n",
    "\n",
    "        "
   ]
  },
  {
   "cell_type": "code",
   "execution_count": null,
   "metadata": {},
   "outputs": [],
   "source": []
  }
 ],
 "metadata": {
  "kernelspec": {
   "display_name": "Python 3",
   "language": "python",
   "name": "python3"
  },
  "language_info": {
   "codemirror_mode": {
    "name": "ipython",
    "version": 3
   },
   "file_extension": ".py",
   "mimetype": "text/x-python",
   "name": "python",
   "nbconvert_exporter": "python",
   "pygments_lexer": "ipython3",
   "version": "3.9.6"
  }
 },
 "nbformat": 4,
 "nbformat_minor": 2
}

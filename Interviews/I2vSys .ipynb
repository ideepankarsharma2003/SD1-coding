{
 "cells": [
  {
   "cell_type": "code",
   "execution_count": null,
   "metadata": {},
   "outputs": [],
   "source": [
    "# n candles --> each burns 1 hour\n",
    "\n",
    "\n",
    "# x burned candle wax --> new candle\n",
    "\n",
    "# how many hours she can light up the room that will be maximum"
   ]
  },
  {
   "cell_type": "code",
   "execution_count": null,
   "metadata": {},
   "outputs": [],
   "source": [
    "# n=7, x=3\n",
    "\n",
    "# n= 10 , x=4"
   ]
  },
  {
   "cell_type": "code",
   "execution_count": null,
   "metadata": {},
   "outputs": [],
   "source": [
    "3+1\n",
    "2+1\n",
    "2+1"
   ]
  },
  {
   "cell_type": "code",
   "execution_count": null,
   "metadata": {},
   "outputs": [],
   "source": [
    "4+1\n",
    "3+1\n",
    "3+1"
   ]
  },
  {
   "cell_type": "code",
   "execution_count": 1,
   "metadata": {},
   "outputs": [],
   "source": [
    "def maximimum_hours(n, x):\n",
    "    hours=0\n",
    "    residue=0\n",
    "    for i in range(1, n+1):\n",
    "        hours+=1\n",
    "        residue+=1\n",
    "        if residue==x:\n",
    "            residue=1\n",
    "            hours+=1\n",
    "    return hours"
   ]
  },
  {
   "cell_type": "code",
   "execution_count": 7,
   "metadata": {},
   "outputs": [
    {
     "data": {
      "text/plain": [
       "6"
      ]
     },
     "execution_count": 7,
     "metadata": {},
     "output_type": "execute_result"
    }
   ],
   "source": [
    "maximimum_hours(7,3)\n",
    "maximimum_hours(10,4)\n",
    "maximimum_hours(5,1)"
   ]
  },
  {
   "cell_type": "code",
   "execution_count": 8,
   "metadata": {},
   "outputs": [],
   "source": [
    "# array of []\n",
    "arr= [1, 2, 5]\n",
    "arr= [5, 7, 1, 1, 2, 3, 22]"
   ]
  },
  {
   "cell_type": "code",
   "execution_count": null,
   "metadata": {},
   "outputs": [],
   "source": [
    "arr= [1, 2, 5]"
   ]
  },
  {
   "cell_type": "code",
   "execution_count": 20,
   "metadata": {},
   "outputs": [],
   "source": [
    "arr= [1, 1, 1]\n"
   ]
  },
  {
   "cell_type": "code",
   "execution_count": 51,
   "metadata": {},
   "outputs": [],
   "source": [
    "def check_sum_possible(arr, n, x):\n",
    "    # print(f\"n= {n}, x= {x}\")\n",
    "    if n==0:\n",
    "        return False\n",
    "    if arr[n-1]==x:\n",
    "        return True\n",
    "    \n",
    "    if arr[n-1]>x:\n",
    "        return check_sum_possible(arr, n-1, x)\n",
    "    else:\n",
    "        return check_sum_possible(arr, n-1, x-arr[n-1]) or check_sum_possible(arr, n-1, x)\n",
    "\n",
    "\n",
    "def find_minimum_change(arr):\n",
    "    if len(arr)==0:\n",
    "        return 1\n",
    "    minimum_number= 1\n",
    "    \n",
    "    while check_sum_possible(arr, len(arr), minimum_number):\n",
    "        minimum_number+=1\n",
    "    return minimum_number\n",
    "\n",
    "\n"
   ]
  },
  {
   "cell_type": "code",
   "execution_count": 52,
   "metadata": {},
   "outputs": [
    {
     "data": {
      "text/plain": [
       "[87]"
      ]
     },
     "execution_count": 52,
     "metadata": {},
     "output_type": "execute_result"
    }
   ],
   "source": [
    "arr"
   ]
  },
  {
   "cell_type": "code",
   "execution_count": 55,
   "metadata": {},
   "outputs": [
    {
     "data": {
      "text/plain": [
       "4"
      ]
     },
     "execution_count": 55,
     "metadata": {},
     "output_type": "execute_result"
    }
   ],
   "source": [
    "arr= [5, 7, 1, 1, 2, 3, 22]\n",
    "arr= [1, 2, 5]\n",
    "# arr= [1, 1, 1]\n",
    "# arr=[]\n",
    "# arr= [87]\n",
    "\n",
    "\n",
    "\n",
    "# check_sum_possible(arr, len(arr), 8)\n",
    "find_minimum_change(arr)"
   ]
  },
  {
   "cell_type": "code",
   "execution_count": null,
   "metadata": {},
   "outputs": [],
   "source": [
    "# There was a girl named Muskan who was given a special task to complete. She was given two strings named 'str1' and 'str2', and her task was to check whether these two strings were isomorphic to each other or not.\n",
    "\n",
    "# Muskan knew that two strings are called isomorphic if there is a one-to-one mapping possible for every character of str1 to every character of str2 while preserving the order. But she also knew that for this mapping to be valid, all occurrences of every character in str1 should map to"
   ]
  },
  {
   "cell_type": "code",
   "execution_count": 62,
   "metadata": {},
   "outputs": [],
   "source": [
    "s1= \"AAB\"\n",
    "s2= \"RXY\""
   ]
  },
  {
   "cell_type": "code",
   "execution_count": 67,
   "metadata": {},
   "outputs": [],
   "source": [
    "def check_one2onemapping(a, b):\n",
    "    if len(a)!=len(b):\n",
    "        return False\n",
    "\n",
    "    func= ord(a[0])-ord(b[0])\n",
    "    for i in range(len(a)):\n",
    "        if ord(a[i])-ord(b[i])!=func:\n",
    "            return False\n",
    "        \n",
    "    return True"
   ]
  },
  {
   "cell_type": "code",
   "execution_count": 71,
   "metadata": {},
   "outputs": [
    {
     "data": {
      "text/plain": [
       "88"
      ]
     },
     "execution_count": 71,
     "metadata": {},
     "output_type": "execute_result"
    }
   ],
   "source": [
    "ord(\"X\")"
   ]
  },
  {
   "cell_type": "code",
   "execution_count": 69,
   "metadata": {},
   "outputs": [
    {
     "data": {
      "text/plain": [
       "False"
      ]
     },
     "execution_count": 69,
     "metadata": {},
     "output_type": "execute_result"
    }
   ],
   "source": [
    "check_one2onemapping(s1, s2)"
   ]
  },
  {
   "cell_type": "code",
   "execution_count": null,
   "metadata": {},
   "outputs": [],
   "source": []
  }
 ],
 "metadata": {
  "kernelspec": {
   "display_name": "venv",
   "language": "python",
   "name": "python3"
  },
  "language_info": {
   "codemirror_mode": {
    "name": "ipython",
    "version": 3
   },
   "file_extension": ".py",
   "mimetype": "text/x-python",
   "name": "python",
   "nbconvert_exporter": "python",
   "pygments_lexer": "ipython3",
   "version": "3.12.2"
  }
 },
 "nbformat": 4,
 "nbformat_minor": 2
}

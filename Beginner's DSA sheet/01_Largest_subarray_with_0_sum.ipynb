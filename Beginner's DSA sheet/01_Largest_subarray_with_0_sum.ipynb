{
 "cells": [
  {
   "cell_type": "code",
   "execution_count": null,
   "metadata": {},
   "outputs": [],
   "source": [
    "class Solution:\n",
    "    def maxLen(self, n, arr):\n",
    "        #Code here\n",
    "        max_len= 0\n",
    "        for i in range(n):\n",
    "            _sum=0\n",
    "            _len=0\n",
    "            for j in range(i, n):\n",
    "                _sum+=arr[j]\n",
    "                \n",
    "                if _sum==0:\n",
    "                    max_len = max(_len,max_len)\n",
    "\n",
    "                _len+=1\n",
    "\n",
    "s= Solution()"
   ]
  },
  {
   "cell_type": "code",
   "execution_count": null,
   "metadata": {},
   "outputs": [],
   "source": [
    "# N = 8\n",
    "# A[] = {15,-2,2,-8,1,7,10,23}\n",
    "# Output: 5\n",
    "\n",
    "A= [15,-2,2,-8,1,7,10,23]\n",
    "N=8\n",
    "\n"
   ]
  }
 ],
 "metadata": {
  "kernelspec": {
   "display_name": "Python 3",
   "language": "python",
   "name": "python3"
  },
  "language_info": {
   "name": "python",
   "version": "3.9.6"
  }
 },
 "nbformat": 4,
 "nbformat_minor": 2
}

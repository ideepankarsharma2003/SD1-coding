{
 "cells": [
  {
   "cell_type": "markdown",
   "metadata": {},
   "source": [
    "# [**Subset Sum Problem**](https://practice.geeksforgeeks.org/problems/subset-sum-problem-1611555638/1)"
   ]
  },
  {
   "cell_type": "markdown",
   "metadata": {},
   "source": [
    "![Alt text](image.png)"
   ]
  },
  {
   "cell_type": "markdown",
   "metadata": {},
   "source": [
    "# Recursive"
   ]
  },
  {
   "cell_type": "code",
   "execution_count": null,
   "metadata": {},
   "outputs": [],
   "source": [
    "class Solution:\n",
    "    def isSubsetSum (self, N, arr, sum):\n",
    "        # code here \n",
    "        if sum==0:\n",
    "            return True\n",
    "        if N==0 and sum>0:\n",
    "            return False\n",
    "        \n",
    "        if arr[N-1]>sum:\n",
    "            return self.isSubsetSum(N-1, arr, sum)\n",
    "        else:\n",
    "            return self.isSubsetSum(N-1, arr, sum) or self.isSubsetSum(N-1, arr, sum-arr[N-1])\n",
    "        \n"
   ]
  },
  {
   "cell_type": "markdown",
   "metadata": {},
   "source": [
    "# Memoization\n"
   ]
  },
  {
   "cell_type": "code",
   "execution_count": null,
   "metadata": {},
   "outputs": [],
   "source": [
    "#User function Template for python3\n",
    "class Solution:\n",
    "    def isSubsetSum (self, N, arr, sum, isFirst=True):\n",
    "        # code here \n",
    "        if isFirst:\n",
    "            self.t= [[-1 for i in range(sum+1)] for j in range(N+1)]\n",
    "            # self.t= [[False for i in range(sum+1)] for j in range(N+1)] # slower\n",
    "\n",
    "        if sum==0:\n",
    "            return True\n",
    "        if N==0 and sum>0:\n",
    "            return False\n",
    "        \n",
    "        if self.t[N][sum]!=-1:\n",
    "            return self.t[N][sum]\n",
    "        \n",
    "        if arr[N-1]>sum:\n",
    "            self.t[N][sum]=  self.isSubsetSum(N-1, arr, sum, isFirst=False)\n",
    "            return self.t[N][sum]\n",
    "        else:\n",
    "            self.t[N][sum]= self.isSubsetSum(N-1, arr, sum, isFirst=False) or self.isSubsetSum(N-1, arr, sum-arr[N-1], isFirst=False)\n",
    "            return self.t[N][sum]\n",
    "        "
   ]
  },
  {
   "cell_type": "markdown",
   "metadata": {},
   "source": [
    "# Bottom Up approach"
   ]
  },
  {
   "cell_type": "code",
   "execution_count": 12,
   "metadata": {},
   "outputs": [],
   "source": [
    "#User function Template for python3\n",
    "class Solution:\n",
    "    def isSubsetSum (self, N, arr, sum, isFirst=True):\n",
    "        # code here \n",
    "        if isFirst:\n",
    "            self.t= [[-1 for i in range(sum+1)] for j in range(N+1)]\n",
    "            # self.t= [[False for i in range(sum+1)] for j in range(N+1)] # slower\n",
    "\n",
    "        # if sum==0:\n",
    "        #     return True\n",
    "        # if N==0 and sum>0:\n",
    "        #     return False\n",
    "\n",
    "\n",
    "        # i ---> N\n",
    "        # j ---> sum\n",
    "        for i in range(N+1):\n",
    "            for j in range(sum+1):\n",
    "                if j==0:\n",
    "                    self.t[i][j]= True\n",
    "                if i==0 and j>0:\n",
    "                    # print(i, j)\n",
    "                    self.t[i][j]= False\n",
    "                    # print(self.t)\n",
    "\n",
    "\n",
    "        for i in range(1, N+1):\n",
    "            for j in range(1, sum+1):\n",
    "                if arr[i-1]>j:\n",
    "                    self.t[i][j]= self.t[i-1][j]\n",
    "                else:\n",
    "                    self.t[i][j]= self.t[i-1][j] or self.t[i-1][j-arr[i-1]]\n",
    "\n",
    "        # print(self.t)\n",
    "        return self.t[-1][-1]\n",
    "\n",
    "\n",
    "        \n",
    "        # if self.t[N][sum]!=-1:\n",
    "        #     return self.t[N][sum]\n",
    "        \n",
    "        # if arr[N-1]>sum:\n",
    "        #     self.t[N][sum]=  self.isSubsetSum(N-1, arr, sum, isFirst=False)\n",
    "        #     return self.t[N][sum]\n",
    "        # else:\n",
    "        #     self.t[N][sum]= self.isSubsetSum(N-1, arr, sum, isFirst=False) or self.isSubsetSum(N-1, arr, sum-arr[N-1], isFirst=False)\n",
    "        #     return self.t[N][sum]\n",
    "        \n",
    "\n",
    "s= Solution()"
   ]
  },
  {
   "cell_type": "code",
   "execution_count": 13,
   "metadata": {},
   "outputs": [
    {
     "data": {
      "text/plain": [
       "True"
      ]
     },
     "execution_count": 13,
     "metadata": {},
     "output_type": "execute_result"
    }
   ],
   "source": [
    "N= 6\n",
    "arr= [3, 34, 4, 12, 5, 2]\n",
    "sum= 9\n",
    "\n",
    "s.isSubsetSum(N, arr, sum)"
   ]
  },
  {
   "cell_type": "code",
   "execution_count": null,
   "metadata": {},
   "outputs": [],
   "source": []
  }
 ],
 "metadata": {
  "kernelspec": {
   "display_name": "Python 3",
   "language": "python",
   "name": "python3"
  },
  "language_info": {
   "codemirror_mode": {
    "name": "ipython",
    "version": 3
   },
   "file_extension": ".py",
   "mimetype": "text/x-python",
   "name": "python",
   "nbconvert_exporter": "python",
   "pygments_lexer": "ipython3",
   "version": "3.9.6"
  }
 },
 "nbformat": 4,
 "nbformat_minor": 2
}
